{
 "cells": [
  {
   "cell_type": "code",
   "execution_count": 11,
   "metadata": {},
   "outputs": [],
   "source": [
    "# import relevant libraries\n",
    "import pandas as pd\n",
    "import numpy as np\n",
    "import matplotlib as plt\n",
    "from sklearn.model_selection import train_test_split, GridSearchCV, RandomizedSearchCV, RepeatedKFold\n",
    "from sklearn.preprocessing import StandardScaler\n",
    "from sklearn.svm import SVR\n",
    "from sklearn.metrics import mean_absolute_error, mean_squared_error\n",
    "from project_functions import huber_loss\n",
    "from sklearn.utils import resample"
   ]
  },
  {
   "cell_type": "markdown",
   "metadata": {},
   "source": [
    "## Unweighted"
   ]
  },
  {
   "cell_type": "code",
   "execution_count": 9,
   "metadata": {},
   "outputs": [
    {
     "data": {
      "text/html": [
       "<div>\n",
       "<style scoped>\n",
       "    .dataframe tbody tr th:only-of-type {\n",
       "        vertical-align: middle;\n",
       "    }\n",
       "\n",
       "    .dataframe tbody tr th {\n",
       "        vertical-align: top;\n",
       "    }\n",
       "\n",
       "    .dataframe thead th {\n",
       "        text-align: right;\n",
       "    }\n",
       "</style>\n",
       "<table border=\"1\" class=\"dataframe\">\n",
       "  <thead>\n",
       "    <tr style=\"text-align: right;\">\n",
       "      <th></th>\n",
       "      <th>steering_angle</th>\n",
       "      <th>distance_to_road_center</th>\n",
       "      <th>angle_from_straight_in_rads</th>\n",
       "      <th>reward</th>\n",
       "    </tr>\n",
       "  </thead>\n",
       "  <tbody>\n",
       "    <tr>\n",
       "      <th>0</th>\n",
       "      <td>-2.017271</td>\n",
       "      <td>-1.449541</td>\n",
       "      <td>-1.197695</td>\n",
       "      <td>0.022491</td>\n",
       "    </tr>\n",
       "    <tr>\n",
       "      <th>1</th>\n",
       "      <td>-2.017271</td>\n",
       "      <td>-1.449541</td>\n",
       "      <td>-1.197695</td>\n",
       "      <td>0.022491</td>\n",
       "    </tr>\n",
       "    <tr>\n",
       "      <th>2</th>\n",
       "      <td>-2.017271</td>\n",
       "      <td>-1.449541</td>\n",
       "      <td>-1.197695</td>\n",
       "      <td>0.022491</td>\n",
       "    </tr>\n",
       "    <tr>\n",
       "      <th>3</th>\n",
       "      <td>-2.017271</td>\n",
       "      <td>-1.449541</td>\n",
       "      <td>-1.197695</td>\n",
       "      <td>0.022491</td>\n",
       "    </tr>\n",
       "    <tr>\n",
       "      <th>4</th>\n",
       "      <td>-2.017271</td>\n",
       "      <td>-1.449541</td>\n",
       "      <td>-1.197695</td>\n",
       "      <td>0.022279</td>\n",
       "    </tr>\n",
       "  </tbody>\n",
       "</table>\n",
       "</div>"
      ],
      "text/plain": [
       "   steering_angle  distance_to_road_center  angle_from_straight_in_rads  \\\n",
       "0       -2.017271                -1.449541                    -1.197695   \n",
       "1       -2.017271                -1.449541                    -1.197695   \n",
       "2       -2.017271                -1.449541                    -1.197695   \n",
       "3       -2.017271                -1.449541                    -1.197695   \n",
       "4       -2.017271                -1.449541                    -1.197695   \n",
       "\n",
       "     reward  \n",
       "0  0.022491  \n",
       "1  0.022491  \n",
       "2  0.022491  \n",
       "3  0.022491  \n",
       "4  0.022279  "
      ]
     },
     "metadata": {},
     "output_type": "display_data"
    }
   ],
   "source": [
    "# import data from csv to dataframe\n",
    "filename = \"raw_data_pd.csv\"\n",
    "df = pd.read_csv(f\"train_data\\{filename}\")\n",
    "\n",
    "# split into input and target features\n",
    "X = df[['distance_to_road_center', 'angle_from_straight_in_rads', 'reward']].values\n",
    "y = df['steering_angle'].values\n",
    "\n",
    "Xtrain, Xval, ytrain, yval = train_test_split(X, y, test_size=0.2, random_state=42)\n",
    "\n",
    "display(df.head())"
   ]
  },
  {
   "cell_type": "code",
   "execution_count": 10,
   "metadata": {},
   "outputs": [],
   "source": [
    "# downsample\n",
    "Xtrain, ytrain = resample(Xtrain, ytrain, n_samples=10000, replace=False, random_state=42)"
   ]
  },
  {
   "cell_type": "code",
   "execution_count": 14,
   "metadata": {},
   "outputs": [
    {
     "name": "stdout",
     "output_type": "stream",
     "text": [
      "Fitting 10 folds for each of 10 candidates, totalling 100 fits\n"
     ]
    }
   ],
   "source": [
    "svr = SVR(kernel='poly')\n",
    "param_grid = {\n",
    "    'kernel': ['linear', 'poly', 'rbf'],\n",
    "    'C': [0.1, 1, 10, 100],\n",
    "    'gamma': ['scale', 'auto'],\n",
    "    'degree': [2, 3, 4]\n",
    "}\n",
    "\n",
    "rkf = RepeatedKFold(n_splits=5, n_repeats=2, random_state=42)\n",
    "\n",
    "class DownsampledCV:\n",
    "    def __init__(self, base_cv, downsample_size):\n",
    "        self.base_cv = base_cv\n",
    "        self.downsample_size = downsample_size\n",
    "\n",
    "    def split(self, X, y=None, groups=None):\n",
    "        for train_idx, test_idx in self.base_cv.split(X, y, groups):\n",
    "            X_train_fold, y_train_fold = X[train_idx], y[train_idx]\n",
    "            if self.downsample_size < len(y_train_fold):\n",
    "                X_train_fold, y_train_fold = resample(\n",
    "                    X_train_fold, y_train_fold, \n",
    "                    n_samples=self.downsample_size, \n",
    "                    replace=False, \n",
    "                    random_state=42\n",
    "                )\n",
    "            yield train_idx, test_idx\n",
    "\n",
    "    def get_n_splits(self, X=None, y=None, groups=None):\n",
    "        return self.base_cv.get_n_splits(X, y, groups)\n",
    "    \n",
    "# instantiate the custom cross-validator\n",
    "downsample_size = 10000\n",
    "downsampled_cv = DownsampledCV(rkf, downsample_size)\n",
    "\n",
    "# perform grid search with the custom cross-validator\n",
    "random_search = RandomizedSearchCV(svr, param_grid, n_iter=10, cv=downsampled_cv, scoring=['neg_mean_squared_error', 'neg_mean_absolute_error'], n_jobs=-1, verbose=2, refit=False)\n",
    "random_search.fit(Xtrain, ytrain)"
   ]
  },
  {
   "cell_type": "code",
   "execution_count": null,
   "metadata": {},
   "outputs": [],
   "source": [
    "random_search_df = pd.DataFrame(random_search.cv_results_)\n",
    "display(random_search_df)"
   ]
  },
  {
   "cell_type": "code",
   "execution_count": null,
   "metadata": {},
   "outputs": [],
   "source": [
    "# best model\n",
    "best_svr = grid_search.best_estimator_\n",
    "\n",
    "# evaluate on validation dataset\n",
    "ypred = best_svr.predict(Xval)\n",
    "val_loss = huber_loss(ypred, yval, delta=1.0)"
   ]
  },
  {
   "cell_type": "markdown",
   "metadata": {},
   "source": [
    "## Weighted"
   ]
  },
  {
   "cell_type": "markdown",
   "metadata": {},
   "source": [
    "# import data from csv to dataframe\n",
    "filename = \"raw_training_data.csv\"\n",
    "df = pd.read_csv(filename)\n",
    "\n",
    "# split into input and target features\n",
    "X = df[['distance_to_road_center', 'angle_from_straight_in_rads']].values\n",
    "y = df['steering_angle'].values\n",
    "r = df['reward'].values\n",
    "\n",
    "Xtrain, Xval, ytrain, yval, wtrain, wval = train_test_split(X, y, r, test_size=0.2, random_state=42)\n",
    "\n",
    "# resample based on sample weights, i.e. rewards\n",
    "Xtrain, ytrain = resample(Xtrain, ytrain, n_samples=len(ytrain), random_state=42, stratify=None, replace=True, weights=wtrain)"
   ]
  }
 ],
 "metadata": {
  "kernelspec": {
   "display_name": "ad_project",
   "language": "python",
   "name": "python3"
  },
  "language_info": {
   "codemirror_mode": {
    "name": "ipython",
    "version": 3
   },
   "file_extension": ".py",
   "mimetype": "text/x-python",
   "name": "python",
   "nbconvert_exporter": "python",
   "pygments_lexer": "ipython3",
   "version": "3.7.16"
  }
 },
 "nbformat": 4,
 "nbformat_minor": 2
}
